{
 "cells": [
  {
   "cell_type": "markdown",
   "metadata": {},
   "source": [
    "# Study Guide - COMP B12 - Final\n"
   ]
  },
  {
   "cell_type": "markdown",
   "metadata": {},
   "source": [
    "## Linked Lists\n",
    "\n",
    " 1. Draw Linked list.\n",
    " 2. Exercises 17.6, 17.13 and 17.14"
   ]
  },
  {
   "cell_type": "markdown",
   "metadata": {},
   "source": [
    "### 17.6\n",
    "\n",
    "Consider the linked list shown in Figure 17-50.\n",
    "Assume that the nodes are in the usual `info-link` form. Assume that `A` and `B` are pointers of `nodeType`\n",
    "\n",
    "What is the output of each of the following C++ statements?"
   ]
  },
  {
   "cell_type": "code",
   "execution_count": null,
   "metadata": {
    "collapsed": true
   },
   "outputs": [
    {
     "name": "stdout",
     "output_type": "stream",
     "text": [
      "18\n",
      "32\n",
      "25\n",
      "23"
     ]
    }
   ],
   "source": [
    "cout << list->info;\n",
    "cout << A->info;\n",
    "cout << B->link->info;\n",
    "cout << list->link->link->info;"
   ]
  },
  {
   "cell_type": "markdown",
   "metadata": {},
   "source": [
    "### 17.13"
   ]
  },
  {
   "cell_type": "code",
   "execution_count": 1,
   "metadata": {
    "collapsed": true,
    "name": "17.13"
   },
   "outputs": [
    {
     "name": "stdout",
     "output_type": "stream",
     "text": [
      "10 18 13"
     ]
    }
   ],
   "source": [
    "list = new nodeType;\n",
    "list->info = 10;\n",
    "ptr = new nodeType;\n",
    "ptr->info = 13;\n",
    "ptr->link = NULL;\n",
    "ptr = new nodeType;\n",
    "ptr->info = 18;\n",
    "ptr->link = list->link;\n",
    "list->link = ptr;\n",
    "cout << list->info << \" \" << ptr->info << \" \";\n",
    "ptr = ptr->link;\n",
    "cout << ptr->info << endl;"
   ]
  },
  {
   "cell_type": "markdown",
   "metadata": {},
   "source": [
    "### 17.14"
   ]
  },
  {
   "cell_type": "code",
   "execution_count": null,
   "metadata": {
    "collapsed": true
   },
   "outputs": [
    {
     "name": "stdout",
     "output_type": "stream",
     "text": [
      "30\n",
      "42\n",
      "20\n",
      "28"
     ]
    }
   ],
   "source": [
    "list = new nodeType;\n",
    "list->info = 20;\n",
    "ptr = new nodeType;\n",
    "ptr->info = 28;\n",
    "ptr->link = NULL;\n",
    "list->link = ptr;\n",
    "ptr = new nodeType;\n",
    "ptr->info = 30;\n",
    "ptr->link = list;\n",
    "list = ptr;\n",
    "ptr = new nodeType;\n",
    "ptr->info = 42;\n",
    "ptr->link = list->link;\n",
    "list->link = ptr;\n",
    "while (ptr != NULL)\n",
    "{\n",
    "    cout << ptr->info << endl;\n",
    "    ptr = ptr->link;\n",
    "}"
   ]
  },
  {
   "cell_type": "markdown",
   "metadata": {},
   "source": [
    "## Stacks and Queues\n",
    "\n",
    " 3. Know which end of linked list is best for stacks and queues, and why.\n",
    " 4. Stack and Queue operations.\n",
    " 5. Exercises 18.14, 18.15, and 18.16"
   ]
  },
  {
   "cell_type": "markdown",
   "metadata": {},
   "source": [
    "### 18.14"
   ]
  },
  {
   "cell_type": "code",
   "execution_count": null,
   "metadata": {
    "collapsed": true
   },
   "outputs": [
    {
     "name": "stdout",
     "output_type": "stream",
     "text": [
      "Queue Elements: 5 9 16 4 2"
     ]
    }
   ],
   "source": [
    "queueType<int> queue;\n",
    "int x, y;\n",
    "\n",
    "x = 4;\n",
    "y = 5;\n",
    "queue.addQueue(x);\n",
    "queue.addQueue(y);\n",
    "x = queue.front();\n",
    "queue.deleteQueue();\n",
    "queue.addQueue(x + 5);\n",
    "queue.addQueue(16);\n",
    "queue.addQueue(x);\n",
    "queue.addQueue(y - 3);\n",
    "\n",
    "cout << \"Queue Elements: \";\n",
    "while (!queue.isEmptyQueue())\n",
    "{\n",
    "    cout << queue.front() << \" \";\n",
    "    queue.deleteQueue();\n",
    "}\n",
    "cout << endl;"
   ]
  },
  {
   "cell_type": "markdown",
   "metadata": {},
   "source": [
    "### 18.15"
   ]
  },
  {
   "cell_type": "code",
   "execution_count": null,
   "metadata": {
    "collapsed": true
   },
   "outputs": [],
   "source": [
    "stackType<int> stack;\n",
    "queueType<int> queue;\n",
    "int x;\n",
    "\n",
    "stack.push(0);\n",
    "queue.addQueue(0);\n",
    "cin >> x;\n",
    "\n",
    "while (x != -999)\n",
    "{\n",
    "    switch (x % 4)\n",
    "    {\n",
    "    case 0:\n",
    "        stack.push(x);\n",
    "        break;\n",
    "    case 1:\n",
    "        if (!stack.isEmptyStack())\n",
    "        {\n",
    "            cout << \"Stack Element = \" << stack.top()\n",
    "                 << endl;\n",
    "            stack.pop();\n",
    "        }\n",
    "        else\n",
    "            cout << \"Sorry, the stack is empty.\" << endl;\n",
    "            break;\n",
    "    case 2:\n",
    "        queue.addQueue(x);\n",
    "        break;\n",
    "    case 3:\n",
    "        if (!queue.isEmptyQueue())\n",
    "        {\n",
    "            cout << \"Queue Element = \" << queue.front()\n",
    "                 << endl;\n",
    "            queue.deleteQueue();\n",
    "        }\n",
    "        else\n",
    "            cout << \"Sorry, the queue is empty.\" << endl;\n",
    "        break;\n",
    "    } // end switch\n",
    "    \n",
    "    cin >> x;\n",
    "} // end while\n",
    "\n",
    "cout << \"Stack Elements: \";\n",
    "while (!stack.isEmptyStack())\n",
    "{\n",
    "    cout << stack.top() << \" \";\n",
    "    stack.pop();\n",
    "}\n",
    "\n",
    "cout << endl;\n",
    "cout << \"Queue Elements: \";\n",
    "while (!queue.isEmptyQueue())\n",
    "{\n",
    "    cout << queue.front() << \" \";\n",
    "    queue.deleteQueue();\n",
    "}\n",
    "cout << endl;"
   ]
  },
  {
   "cell_type": "markdown",
   "metadata": {},
   "source": [
    "### 18.16\n",
    "\n",
    "What does the following function do?"
   ]
  },
  {
   "cell_type": "code",
   "execution_count": null,
   "metadata": {
    "collapsed": true
   },
   "outputs": [],
   "source": [
    "void mystery(queueType<int>& q)\n",
    "{\n",
    "    stackType<int> s;\n",
    "    \n",
    "    while (!q.isEmptyQueue())\n",
    "    {\n",
    "        s.push(q.front());\n",
    "        q.deleteQueue();\n",
    "    }\n",
    "    \n",
    "    while (!s.isEmptyStack())\n",
    "    {\n",
    "        q.addQueue(2* s.top());\n",
    "        s.pop();\n",
    "    }\n",
    "}"
   ]
  },
  {
   "cell_type": "markdown",
   "metadata": {},
   "source": [
    "## Sorting and Searching\n",
    "\n",
    " 6. Trace Bubble Sort, Insertion Sort, and Selection Sort (Assignment 7 Logic Check)\n",
    " 7. Distinguish Bubble Sort, Insertion Sort, and Selection Sort from code\n",
    " 8. Calculate number of comparisons necessary for particular sort, with particular data, and generally.\n",
    " 9. Big-O measure for various sorts and searches (worst-case, best-case, average case)\n",
    " 10. Binary Search - trace both regular and lazy (Assignment 7 Logic Check)"
   ]
  },
  {
   "cell_type": "markdown",
   "metadata": {},
   "source": [
    "## Binary Trees\n",
    "\n",
    " 11. Traversal - inorder, preorder, postorder\n",
    " 12. Binary Search Trees - inserting nodes and de"
   ]
  }
 ],
 "metadata": {
  "kernelspec": {
   "display_name": "C++",
   "language": "c++",
   "name": "c++"
  },
  "language_info": {
   "codemirror_mode": "clike",
   "file_extension": ".cpp",
   "mimetype": "text/x-c++src",
   "name": "c++"
  }
 },
 "nbformat": 4,
 "nbformat_minor": 0
}
